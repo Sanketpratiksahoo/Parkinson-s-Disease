{
 "cells": [
  {
   "cell_type": "code",
   "execution_count": 82,
   "id": "57d1b54c",
   "metadata": {},
   "outputs": [],
   "source": [
    "import pandas as pd\n",
    "import pandas as nm\n",
    "import numpy as np\n",
    "import matplotlib.pyplot as plt\n",
    "from tabulate import tabulate\n",
    "import matplotlib.pyplot as mtp\n",
    "from sklearn.preprocessing import StandardScaler\n",
    "from sklearn.neighbors import KNeighborsClassifier\n",
    "from sklearn.datasets import make_classification\n",
    "from sklearn.ensemble import RandomForestClassifier\n",
    "from sklearn.naive_bayes import GaussianNB\n",
    "from sklearn.linear_model import LogisticRegression\n",
    "from sklearn.preprocessing import MinMaxScaler\n",
    "\n",
    "from sklearn.model_selection import train_test_split\n",
    "from sklearn.metrics import accuracy_score, precision_score, recall_score, f1_score\n",
    "from sklearn import svm\n",
    "\n",
    "\n",
    "parkinsons_data = pd.read_csv('train.csv')"
   ]
  },
  {
   "cell_type": "markdown",
   "id": "b8bcf54e",
   "metadata": {},
   "source": [
    "# Data collection and analysis"
   ]
  },
  {
   "cell_type": "code",
   "execution_count": 83,
   "id": "925fd50f",
   "metadata": {},
   "outputs": [
    {
     "data": {
      "text/html": [
       "<div>\n",
       "<style scoped>\n",
       "    .dataframe tbody tr th:only-of-type {\n",
       "        vertical-align: middle;\n",
       "    }\n",
       "\n",
       "    .dataframe tbody tr th {\n",
       "        vertical-align: top;\n",
       "    }\n",
       "\n",
       "    .dataframe thead th {\n",
       "        text-align: right;\n",
       "    }\n",
       "</style>\n",
       "<table border=\"1\" class=\"dataframe\">\n",
       "  <thead>\n",
       "    <tr style=\"text-align: right;\">\n",
       "      <th></th>\n",
       "      <th>MDVP:Fo(Hz)</th>\n",
       "      <th>MDVP:Fhi(Hz)</th>\n",
       "      <th>MDVP:Flo(Hz)</th>\n",
       "      <th>MDVP:Jitter(%)</th>\n",
       "      <th>MDVP:Jitter(Abs)</th>\n",
       "      <th>MDVP:RAP</th>\n",
       "      <th>MDVP:PPQ</th>\n",
       "      <th>Jitter:DDP</th>\n",
       "      <th>MDVP:Shimmer</th>\n",
       "      <th>MDVP:Shimmer(dB)</th>\n",
       "      <th>...</th>\n",
       "      <th>Shimmer:DDA</th>\n",
       "      <th>NHR</th>\n",
       "      <th>HNR</th>\n",
       "      <th>RPDE</th>\n",
       "      <th>DFA</th>\n",
       "      <th>spread1</th>\n",
       "      <th>spread2</th>\n",
       "      <th>D2</th>\n",
       "      <th>PPE</th>\n",
       "      <th>status</th>\n",
       "    </tr>\n",
       "  </thead>\n",
       "  <tbody>\n",
       "    <tr>\n",
       "      <th>0</th>\n",
       "      <td>119.992</td>\n",
       "      <td>157.302</td>\n",
       "      <td>74.997</td>\n",
       "      <td>0.00784</td>\n",
       "      <td>0.00007</td>\n",
       "      <td>0.00370</td>\n",
       "      <td>0.00554</td>\n",
       "      <td>0.01109</td>\n",
       "      <td>0.04374</td>\n",
       "      <td>0.426</td>\n",
       "      <td>...</td>\n",
       "      <td>0.06545</td>\n",
       "      <td>0.02211</td>\n",
       "      <td>21.033</td>\n",
       "      <td>0.414783</td>\n",
       "      <td>0.815285</td>\n",
       "      <td>-4.813031</td>\n",
       "      <td>0.266482</td>\n",
       "      <td>2.301442</td>\n",
       "      <td>0.284654</td>\n",
       "      <td>1</td>\n",
       "    </tr>\n",
       "    <tr>\n",
       "      <th>1</th>\n",
       "      <td>122.400</td>\n",
       "      <td>148.650</td>\n",
       "      <td>113.819</td>\n",
       "      <td>0.00968</td>\n",
       "      <td>0.00008</td>\n",
       "      <td>0.00465</td>\n",
       "      <td>0.00696</td>\n",
       "      <td>0.01394</td>\n",
       "      <td>0.06134</td>\n",
       "      <td>0.626</td>\n",
       "      <td>...</td>\n",
       "      <td>0.09403</td>\n",
       "      <td>0.01929</td>\n",
       "      <td>19.085</td>\n",
       "      <td>0.458359</td>\n",
       "      <td>0.819521</td>\n",
       "      <td>-4.075192</td>\n",
       "      <td>0.335590</td>\n",
       "      <td>2.486855</td>\n",
       "      <td>0.368674</td>\n",
       "      <td>1</td>\n",
       "    </tr>\n",
       "    <tr>\n",
       "      <th>2</th>\n",
       "      <td>116.682</td>\n",
       "      <td>131.111</td>\n",
       "      <td>111.555</td>\n",
       "      <td>0.01050</td>\n",
       "      <td>0.00009</td>\n",
       "      <td>0.00544</td>\n",
       "      <td>0.00781</td>\n",
       "      <td>0.01633</td>\n",
       "      <td>0.05233</td>\n",
       "      <td>0.482</td>\n",
       "      <td>...</td>\n",
       "      <td>0.08270</td>\n",
       "      <td>0.01309</td>\n",
       "      <td>20.651</td>\n",
       "      <td>0.429895</td>\n",
       "      <td>0.825288</td>\n",
       "      <td>-4.443179</td>\n",
       "      <td>0.311173</td>\n",
       "      <td>2.342259</td>\n",
       "      <td>0.332634</td>\n",
       "      <td>1</td>\n",
       "    </tr>\n",
       "    <tr>\n",
       "      <th>3</th>\n",
       "      <td>116.676</td>\n",
       "      <td>137.871</td>\n",
       "      <td>111.366</td>\n",
       "      <td>0.00997</td>\n",
       "      <td>0.00009</td>\n",
       "      <td>0.00502</td>\n",
       "      <td>0.00698</td>\n",
       "      <td>0.01505</td>\n",
       "      <td>0.05492</td>\n",
       "      <td>0.517</td>\n",
       "      <td>...</td>\n",
       "      <td>0.08771</td>\n",
       "      <td>0.01353</td>\n",
       "      <td>20.644</td>\n",
       "      <td>0.434969</td>\n",
       "      <td>0.819235</td>\n",
       "      <td>-4.117501</td>\n",
       "      <td>0.334147</td>\n",
       "      <td>2.405554</td>\n",
       "      <td>0.368975</td>\n",
       "      <td>1</td>\n",
       "    </tr>\n",
       "    <tr>\n",
       "      <th>4</th>\n",
       "      <td>116.014</td>\n",
       "      <td>141.781</td>\n",
       "      <td>110.655</td>\n",
       "      <td>0.01284</td>\n",
       "      <td>0.00011</td>\n",
       "      <td>0.00655</td>\n",
       "      <td>0.00908</td>\n",
       "      <td>0.01966</td>\n",
       "      <td>0.06425</td>\n",
       "      <td>0.584</td>\n",
       "      <td>...</td>\n",
       "      <td>0.10470</td>\n",
       "      <td>0.01767</td>\n",
       "      <td>19.649</td>\n",
       "      <td>0.417356</td>\n",
       "      <td>0.823484</td>\n",
       "      <td>-3.747787</td>\n",
       "      <td>0.234513</td>\n",
       "      <td>2.332180</td>\n",
       "      <td>0.410335</td>\n",
       "      <td>1</td>\n",
       "    </tr>\n",
       "  </tbody>\n",
       "</table>\n",
       "<p>5 rows × 23 columns</p>\n",
       "</div>"
      ],
      "text/plain": [
       "   MDVP:Fo(Hz)  MDVP:Fhi(Hz)  MDVP:Flo(Hz)  MDVP:Jitter(%)  MDVP:Jitter(Abs)  \\\n",
       "0      119.992       157.302        74.997         0.00784           0.00007   \n",
       "1      122.400       148.650       113.819         0.00968           0.00008   \n",
       "2      116.682       131.111       111.555         0.01050           0.00009   \n",
       "3      116.676       137.871       111.366         0.00997           0.00009   \n",
       "4      116.014       141.781       110.655         0.01284           0.00011   \n",
       "\n",
       "   MDVP:RAP  MDVP:PPQ  Jitter:DDP  MDVP:Shimmer  MDVP:Shimmer(dB)  ...  \\\n",
       "0   0.00370   0.00554     0.01109       0.04374             0.426  ...   \n",
       "1   0.00465   0.00696     0.01394       0.06134             0.626  ...   \n",
       "2   0.00544   0.00781     0.01633       0.05233             0.482  ...   \n",
       "3   0.00502   0.00698     0.01505       0.05492             0.517  ...   \n",
       "4   0.00655   0.00908     0.01966       0.06425             0.584  ...   \n",
       "\n",
       "   Shimmer:DDA      NHR     HNR      RPDE       DFA   spread1   spread2  \\\n",
       "0      0.06545  0.02211  21.033  0.414783  0.815285 -4.813031  0.266482   \n",
       "1      0.09403  0.01929  19.085  0.458359  0.819521 -4.075192  0.335590   \n",
       "2      0.08270  0.01309  20.651  0.429895  0.825288 -4.443179  0.311173   \n",
       "3      0.08771  0.01353  20.644  0.434969  0.819235 -4.117501  0.334147   \n",
       "4      0.10470  0.01767  19.649  0.417356  0.823484 -3.747787  0.234513   \n",
       "\n",
       "         D2       PPE  status  \n",
       "0  2.301442  0.284654       1  \n",
       "1  2.486855  0.368674       1  \n",
       "2  2.342259  0.332634       1  \n",
       "3  2.405554  0.368975       1  \n",
       "4  2.332180  0.410335       1  \n",
       "\n",
       "[5 rows x 23 columns]"
      ]
     },
     "execution_count": 83,
     "metadata": {},
     "output_type": "execute_result"
    }
   ],
   "source": [
    "parkinsons_data.head()"
   ]
  },
  {
   "cell_type": "code",
   "execution_count": 84,
   "id": "26a02e3b",
   "metadata": {},
   "outputs": [
    {
     "data": {
      "text/plain": [
       "(195, 23)"
      ]
     },
     "execution_count": 84,
     "metadata": {},
     "output_type": "execute_result"
    }
   ],
   "source": [
    "parkinsons_data.shape\n"
   ]
  },
  {
   "cell_type": "code",
   "execution_count": 85,
   "id": "a61dc6d7",
   "metadata": {},
   "outputs": [
    {
     "name": "stdout",
     "output_type": "stream",
     "text": [
      "<class 'pandas.core.frame.DataFrame'>\n",
      "RangeIndex: 195 entries, 0 to 194\n",
      "Data columns (total 23 columns):\n",
      " #   Column            Non-Null Count  Dtype  \n",
      "---  ------            --------------  -----  \n",
      " 0   MDVP:Fo(Hz)       195 non-null    float64\n",
      " 1   MDVP:Fhi(Hz)      195 non-null    float64\n",
      " 2   MDVP:Flo(Hz)      195 non-null    float64\n",
      " 3   MDVP:Jitter(%)    195 non-null    float64\n",
      " 4   MDVP:Jitter(Abs)  195 non-null    float64\n",
      " 5   MDVP:RAP          195 non-null    float64\n",
      " 6   MDVP:PPQ          195 non-null    float64\n",
      " 7   Jitter:DDP        195 non-null    float64\n",
      " 8   MDVP:Shimmer      195 non-null    float64\n",
      " 9   MDVP:Shimmer(dB)  195 non-null    float64\n",
      " 10  Shimmer:APQ3      195 non-null    float64\n",
      " 11  Shimmer:APQ5      195 non-null    float64\n",
      " 12  MDVP:APQ          195 non-null    float64\n",
      " 13  Shimmer:DDA       195 non-null    float64\n",
      " 14  NHR               195 non-null    float64\n",
      " 15  HNR               195 non-null    float64\n",
      " 16  RPDE              195 non-null    float64\n",
      " 17  DFA               195 non-null    float64\n",
      " 18  spread1           195 non-null    float64\n",
      " 19  spread2           195 non-null    float64\n",
      " 20  D2                195 non-null    float64\n",
      " 21  PPE               195 non-null    float64\n",
      " 22  status            195 non-null    int64  \n",
      "dtypes: float64(22), int64(1)\n",
      "memory usage: 35.2 KB\n"
     ]
    }
   ],
   "source": [
    "parkinsons_data.info()"
   ]
  },
  {
   "cell_type": "code",
   "execution_count": 86,
   "id": "1e2ea4ac",
   "metadata": {},
   "outputs": [
    {
     "data": {
      "text/html": [
       "<div>\n",
       "<style scoped>\n",
       "    .dataframe tbody tr th:only-of-type {\n",
       "        vertical-align: middle;\n",
       "    }\n",
       "\n",
       "    .dataframe tbody tr th {\n",
       "        vertical-align: top;\n",
       "    }\n",
       "\n",
       "    .dataframe thead th {\n",
       "        text-align: right;\n",
       "    }\n",
       "</style>\n",
       "<table border=\"1\" class=\"dataframe\">\n",
       "  <thead>\n",
       "    <tr style=\"text-align: right;\">\n",
       "      <th></th>\n",
       "      <th>MDVP:Fo(Hz)</th>\n",
       "      <th>MDVP:Fhi(Hz)</th>\n",
       "      <th>MDVP:Flo(Hz)</th>\n",
       "      <th>MDVP:Jitter(%)</th>\n",
       "      <th>MDVP:Jitter(Abs)</th>\n",
       "      <th>MDVP:RAP</th>\n",
       "      <th>MDVP:PPQ</th>\n",
       "      <th>Jitter:DDP</th>\n",
       "      <th>MDVP:Shimmer</th>\n",
       "      <th>MDVP:Shimmer(dB)</th>\n",
       "      <th>...</th>\n",
       "      <th>Shimmer:DDA</th>\n",
       "      <th>NHR</th>\n",
       "      <th>HNR</th>\n",
       "      <th>RPDE</th>\n",
       "      <th>DFA</th>\n",
       "      <th>spread1</th>\n",
       "      <th>spread2</th>\n",
       "      <th>D2</th>\n",
       "      <th>PPE</th>\n",
       "      <th>status</th>\n",
       "    </tr>\n",
       "  </thead>\n",
       "  <tbody>\n",
       "    <tr>\n",
       "      <th>count</th>\n",
       "      <td>195.000000</td>\n",
       "      <td>195.000000</td>\n",
       "      <td>195.000000</td>\n",
       "      <td>195.000000</td>\n",
       "      <td>195.000000</td>\n",
       "      <td>195.000000</td>\n",
       "      <td>195.000000</td>\n",
       "      <td>195.000000</td>\n",
       "      <td>195.000000</td>\n",
       "      <td>195.000000</td>\n",
       "      <td>...</td>\n",
       "      <td>195.000000</td>\n",
       "      <td>195.000000</td>\n",
       "      <td>195.000000</td>\n",
       "      <td>195.000000</td>\n",
       "      <td>195.000000</td>\n",
       "      <td>195.000000</td>\n",
       "      <td>195.000000</td>\n",
       "      <td>195.000000</td>\n",
       "      <td>195.000000</td>\n",
       "      <td>195.000000</td>\n",
       "    </tr>\n",
       "    <tr>\n",
       "      <th>mean</th>\n",
       "      <td>154.228641</td>\n",
       "      <td>197.104918</td>\n",
       "      <td>116.324631</td>\n",
       "      <td>0.006220</td>\n",
       "      <td>0.000044</td>\n",
       "      <td>0.003306</td>\n",
       "      <td>0.003446</td>\n",
       "      <td>0.009920</td>\n",
       "      <td>0.029709</td>\n",
       "      <td>0.282251</td>\n",
       "      <td>...</td>\n",
       "      <td>0.046993</td>\n",
       "      <td>0.024847</td>\n",
       "      <td>21.885974</td>\n",
       "      <td>0.498536</td>\n",
       "      <td>0.718099</td>\n",
       "      <td>-5.684397</td>\n",
       "      <td>0.226510</td>\n",
       "      <td>2.381826</td>\n",
       "      <td>0.206552</td>\n",
       "      <td>0.753846</td>\n",
       "    </tr>\n",
       "    <tr>\n",
       "      <th>std</th>\n",
       "      <td>41.390065</td>\n",
       "      <td>91.491548</td>\n",
       "      <td>43.521413</td>\n",
       "      <td>0.004848</td>\n",
       "      <td>0.000035</td>\n",
       "      <td>0.002968</td>\n",
       "      <td>0.002759</td>\n",
       "      <td>0.008903</td>\n",
       "      <td>0.018857</td>\n",
       "      <td>0.194877</td>\n",
       "      <td>...</td>\n",
       "      <td>0.030459</td>\n",
       "      <td>0.040418</td>\n",
       "      <td>4.425764</td>\n",
       "      <td>0.103942</td>\n",
       "      <td>0.055336</td>\n",
       "      <td>1.090208</td>\n",
       "      <td>0.083406</td>\n",
       "      <td>0.382799</td>\n",
       "      <td>0.090119</td>\n",
       "      <td>0.431878</td>\n",
       "    </tr>\n",
       "    <tr>\n",
       "      <th>min</th>\n",
       "      <td>88.333000</td>\n",
       "      <td>102.145000</td>\n",
       "      <td>65.476000</td>\n",
       "      <td>0.001680</td>\n",
       "      <td>0.000007</td>\n",
       "      <td>0.000680</td>\n",
       "      <td>0.000920</td>\n",
       "      <td>0.002040</td>\n",
       "      <td>0.009540</td>\n",
       "      <td>0.085000</td>\n",
       "      <td>...</td>\n",
       "      <td>0.013640</td>\n",
       "      <td>0.000650</td>\n",
       "      <td>8.441000</td>\n",
       "      <td>0.256570</td>\n",
       "      <td>0.574282</td>\n",
       "      <td>-7.964984</td>\n",
       "      <td>0.006274</td>\n",
       "      <td>1.423287</td>\n",
       "      <td>0.044539</td>\n",
       "      <td>0.000000</td>\n",
       "    </tr>\n",
       "    <tr>\n",
       "      <th>25%</th>\n",
       "      <td>117.572000</td>\n",
       "      <td>134.862500</td>\n",
       "      <td>84.291000</td>\n",
       "      <td>0.003460</td>\n",
       "      <td>0.000020</td>\n",
       "      <td>0.001660</td>\n",
       "      <td>0.001860</td>\n",
       "      <td>0.004985</td>\n",
       "      <td>0.016505</td>\n",
       "      <td>0.148500</td>\n",
       "      <td>...</td>\n",
       "      <td>0.024735</td>\n",
       "      <td>0.005925</td>\n",
       "      <td>19.198000</td>\n",
       "      <td>0.421306</td>\n",
       "      <td>0.674758</td>\n",
       "      <td>-6.450096</td>\n",
       "      <td>0.174351</td>\n",
       "      <td>2.099125</td>\n",
       "      <td>0.137451</td>\n",
       "      <td>1.000000</td>\n",
       "    </tr>\n",
       "    <tr>\n",
       "      <th>50%</th>\n",
       "      <td>148.790000</td>\n",
       "      <td>175.829000</td>\n",
       "      <td>104.315000</td>\n",
       "      <td>0.004940</td>\n",
       "      <td>0.000030</td>\n",
       "      <td>0.002500</td>\n",
       "      <td>0.002690</td>\n",
       "      <td>0.007490</td>\n",
       "      <td>0.022970</td>\n",
       "      <td>0.221000</td>\n",
       "      <td>...</td>\n",
       "      <td>0.038360</td>\n",
       "      <td>0.011660</td>\n",
       "      <td>22.085000</td>\n",
       "      <td>0.495954</td>\n",
       "      <td>0.722254</td>\n",
       "      <td>-5.720868</td>\n",
       "      <td>0.218885</td>\n",
       "      <td>2.361532</td>\n",
       "      <td>0.194052</td>\n",
       "      <td>1.000000</td>\n",
       "    </tr>\n",
       "    <tr>\n",
       "      <th>75%</th>\n",
       "      <td>182.769000</td>\n",
       "      <td>224.205500</td>\n",
       "      <td>140.018500</td>\n",
       "      <td>0.007365</td>\n",
       "      <td>0.000060</td>\n",
       "      <td>0.003835</td>\n",
       "      <td>0.003955</td>\n",
       "      <td>0.011505</td>\n",
       "      <td>0.037885</td>\n",
       "      <td>0.350000</td>\n",
       "      <td>...</td>\n",
       "      <td>0.060795</td>\n",
       "      <td>0.025640</td>\n",
       "      <td>25.075500</td>\n",
       "      <td>0.587562</td>\n",
       "      <td>0.761881</td>\n",
       "      <td>-5.046192</td>\n",
       "      <td>0.279234</td>\n",
       "      <td>2.636456</td>\n",
       "      <td>0.252980</td>\n",
       "      <td>1.000000</td>\n",
       "    </tr>\n",
       "    <tr>\n",
       "      <th>max</th>\n",
       "      <td>260.105000</td>\n",
       "      <td>592.030000</td>\n",
       "      <td>239.170000</td>\n",
       "      <td>0.033160</td>\n",
       "      <td>0.000260</td>\n",
       "      <td>0.021440</td>\n",
       "      <td>0.019580</td>\n",
       "      <td>0.064330</td>\n",
       "      <td>0.119080</td>\n",
       "      <td>1.302000</td>\n",
       "      <td>...</td>\n",
       "      <td>0.169420</td>\n",
       "      <td>0.314820</td>\n",
       "      <td>33.047000</td>\n",
       "      <td>0.685151</td>\n",
       "      <td>0.825288</td>\n",
       "      <td>-2.434031</td>\n",
       "      <td>0.450493</td>\n",
       "      <td>3.671155</td>\n",
       "      <td>0.527367</td>\n",
       "      <td>1.000000</td>\n",
       "    </tr>\n",
       "  </tbody>\n",
       "</table>\n",
       "<p>8 rows × 23 columns</p>\n",
       "</div>"
      ],
      "text/plain": [
       "       MDVP:Fo(Hz)  MDVP:Fhi(Hz)  MDVP:Flo(Hz)  MDVP:Jitter(%)  \\\n",
       "count   195.000000    195.000000    195.000000      195.000000   \n",
       "mean    154.228641    197.104918    116.324631        0.006220   \n",
       "std      41.390065     91.491548     43.521413        0.004848   \n",
       "min      88.333000    102.145000     65.476000        0.001680   \n",
       "25%     117.572000    134.862500     84.291000        0.003460   \n",
       "50%     148.790000    175.829000    104.315000        0.004940   \n",
       "75%     182.769000    224.205500    140.018500        0.007365   \n",
       "max     260.105000    592.030000    239.170000        0.033160   \n",
       "\n",
       "       MDVP:Jitter(Abs)    MDVP:RAP    MDVP:PPQ  Jitter:DDP  MDVP:Shimmer  \\\n",
       "count        195.000000  195.000000  195.000000  195.000000    195.000000   \n",
       "mean           0.000044    0.003306    0.003446    0.009920      0.029709   \n",
       "std            0.000035    0.002968    0.002759    0.008903      0.018857   \n",
       "min            0.000007    0.000680    0.000920    0.002040      0.009540   \n",
       "25%            0.000020    0.001660    0.001860    0.004985      0.016505   \n",
       "50%            0.000030    0.002500    0.002690    0.007490      0.022970   \n",
       "75%            0.000060    0.003835    0.003955    0.011505      0.037885   \n",
       "max            0.000260    0.021440    0.019580    0.064330      0.119080   \n",
       "\n",
       "       MDVP:Shimmer(dB)  ...  Shimmer:DDA         NHR         HNR        RPDE  \\\n",
       "count        195.000000  ...   195.000000  195.000000  195.000000  195.000000   \n",
       "mean           0.282251  ...     0.046993    0.024847   21.885974    0.498536   \n",
       "std            0.194877  ...     0.030459    0.040418    4.425764    0.103942   \n",
       "min            0.085000  ...     0.013640    0.000650    8.441000    0.256570   \n",
       "25%            0.148500  ...     0.024735    0.005925   19.198000    0.421306   \n",
       "50%            0.221000  ...     0.038360    0.011660   22.085000    0.495954   \n",
       "75%            0.350000  ...     0.060795    0.025640   25.075500    0.587562   \n",
       "max            1.302000  ...     0.169420    0.314820   33.047000    0.685151   \n",
       "\n",
       "              DFA     spread1     spread2          D2         PPE      status  \n",
       "count  195.000000  195.000000  195.000000  195.000000  195.000000  195.000000  \n",
       "mean     0.718099   -5.684397    0.226510    2.381826    0.206552    0.753846  \n",
       "std      0.055336    1.090208    0.083406    0.382799    0.090119    0.431878  \n",
       "min      0.574282   -7.964984    0.006274    1.423287    0.044539    0.000000  \n",
       "25%      0.674758   -6.450096    0.174351    2.099125    0.137451    1.000000  \n",
       "50%      0.722254   -5.720868    0.218885    2.361532    0.194052    1.000000  \n",
       "75%      0.761881   -5.046192    0.279234    2.636456    0.252980    1.000000  \n",
       "max      0.825288   -2.434031    0.450493    3.671155    0.527367    1.000000  \n",
       "\n",
       "[8 rows x 23 columns]"
      ]
     },
     "execution_count": 86,
     "metadata": {},
     "output_type": "execute_result"
    }
   ],
   "source": [
    "parkinsons_data.describe()"
   ]
  },
  {
   "cell_type": "code",
   "execution_count": 87,
   "id": "856902b3",
   "metadata": {},
   "outputs": [
    {
     "data": {
      "text/plain": [
       "1    147\n",
       "0     48\n",
       "Name: status, dtype: int64"
      ]
     },
     "execution_count": 87,
     "metadata": {},
     "output_type": "execute_result"
    }
   ],
   "source": [
    "parkinsons_data['status'].value_counts()"
   ]
  },
  {
   "cell_type": "markdown",
   "id": "439a08a5",
   "metadata": {},
   "source": [
    "1->parkinson's disease\n",
    "0-> healthy"
   ]
  },
  {
   "cell_type": "code",
   "execution_count": 88,
   "id": "5303e53f",
   "metadata": {},
   "outputs": [
    {
     "name": "stdout",
     "output_type": "stream",
     "text": [
      "     MDVP:Fo(Hz)  MDVP:Fhi(Hz)  MDVP:Flo(Hz)  MDVP:Jitter(%)  \\\n",
      "0       0.184308      0.112592      0.054815        0.195680   \n",
      "1       0.198327      0.094930      0.278323        0.254130   \n",
      "2       0.165039      0.059128      0.265288        0.280178   \n",
      "3       0.165004      0.072927      0.264200        0.263342   \n",
      "4       0.161150      0.080909      0.260107        0.354511   \n",
      "..           ...           ...           ...             ...   \n",
      "190     0.499820      0.262986      0.165722        0.092440   \n",
      "191     0.705488      0.307974      0.138243        0.125794   \n",
      "192     0.502730      0.281413      0.050727        0.378653   \n",
      "193     0.642893      0.601807      0.054279        0.181703   \n",
      "194     0.733274      0.322794      0.071948        0.126747   \n",
      "\n",
      "     MDVP:Jitter(Abs)  MDVP:RAP  MDVP:PPQ  Jitter:DDP  MDVP:Shimmer  \\\n",
      "0            0.249012  0.145472  0.247588    0.145288      0.312215   \n",
      "1            0.288538  0.191233  0.323687    0.191042      0.472887   \n",
      "2            0.328063  0.229287  0.369239    0.229411      0.390634   \n",
      "3            0.328063  0.209056  0.324759    0.208862      0.414278   \n",
      "4            0.407115  0.282755  0.437299    0.282870      0.499452   \n",
      "..                ...       ...       ...         ...           ...   \n",
      "190          0.090909  0.093931  0.089496    0.094076      0.286014   \n",
      "191          0.090909  0.126686  0.107181    0.126826      0.164050   \n",
      "192          0.288538  0.267823  0.252947    0.267940      0.123608   \n",
      "193          0.130435  0.145472  0.159700    0.145288      0.122512   \n",
      "194          0.090909  0.109345  0.120579    0.109327      0.084900   \n",
      "\n",
      "     MDVP:Shimmer(dB)  ...  Shimmer:DDA       NHR       HNR      RPDE  \\\n",
      "0            0.280197  ...     0.332584  0.068307  0.511745  0.369155   \n",
      "1            0.444536  ...     0.516048  0.059331  0.432577  0.470830   \n",
      "2            0.326212  ...     0.443317  0.039596  0.496220  0.404416   \n",
      "3            0.354971  ...     0.475478  0.040997  0.495936  0.416255   \n",
      "4            0.410025  ...     0.584542  0.054174  0.455499  0.375159   \n",
      "..                ...  ...          ...       ...       ...       ...   \n",
      "190          0.262942  ...     0.362306  0.085909  0.450134  0.447684   \n",
      "191          0.146261  ...     0.221338  0.055543  0.435097  0.408567   \n",
      "192          0.140509  ...     0.156631  0.338988  0.383728  0.352318   \n",
      "193          0.128184  ...     0.155989  0.227838  0.429936  0.454176   \n",
      "194          0.086278  ...     0.110027  0.137919  0.518898  0.481200   \n",
      "\n",
      "          DFA   spread1   spread2        D2       PPE  status  \n",
      "0    0.960148  0.569875  0.585765  0.390661  0.497310     1.0  \n",
      "1    0.977024  0.703277  0.741337  0.473145  0.671326     1.0  \n",
      "2    1.000000  0.636745  0.686371  0.408819  0.596682     1.0  \n",
      "3    0.975885  0.695627  0.738089  0.436977  0.671949     1.0  \n",
      "4    0.992813  0.762472  0.513798  0.404336  0.757611     1.0  \n",
      "..        ...       ...       ...       ...       ...     ...  \n",
      "190  0.333127  0.257894  0.260408  0.549049  0.183318     0.0  \n",
      "191  0.434101  0.319956  0.276956  0.605474  0.257558     0.0  \n",
      "192  0.324299  0.212945  0.342577  0.558967  0.180580     0.0  \n",
      "193  0.277579  0.220650  0.452885  0.318222  0.163137     0.0  \n",
      "194  0.358856  0.405161  0.415095  0.503673  0.215460     0.0  \n",
      "\n",
      "[195 rows x 23 columns]\n"
     ]
    }
   ],
   "source": [
    "\n",
    "scaler = MinMaxScaler()\n",
    "\n",
    "\n",
    "num_cols = parkinsons_data.select_dtypes(include=['float64', 'int64']).columns\n",
    "\n",
    "\n",
    "parkinsons_data[num_cols] = scaler.fit_transform(parkinsons_data[num_cols])\n",
    "\n",
    "print(parkinsons_data)"
   ]
  },
  {
   "cell_type": "code",
   "execution_count": 89,
   "id": "a34071b9",
   "metadata": {},
   "outputs": [
    {
     "data": {
      "image/png": "[encoded data removed]",
      "text/plain": [
       "<Figure size 640x480 with 1 Axes>"
      ]
     },
     "metadata": {},
     "output_type": "display_data"
    }
   ],
   "source": [
    "column_name = 'MDVP:Fhi(Hz)'\n",
    "\n",
    "# create a histogram\n",
    "plt.hist(parkinsons_data[column_name], bins=10)\n",
    "\n",
    "# add axis labels and title\n",
    "plt.xlabel(column_name)\n",
    "plt.ylabel('Frequency')\n",
    "plt.title('Histogram of ' + column_name)\n",
    "\n",
    "# display the histogram\n",
    "plt.show()\n"
   ]
  },
  {
   "cell_type": "markdown",
   "id": "277b757f",
   "metadata": {},
   "source": [
    "# X and Y split\n"
   ]
  },
  {
   "cell_type": "code",
   "execution_count": 90,
   "id": "cf995457",
   "metadata": {},
   "outputs": [],
   "source": [
    "data = pd.read_csv('C:/Users/sanke/Downloads/ML model/train.csv')\n",
    "knn = KNeighborsClassifier(n_neighbors=3)\n",
    "x = parkinsons_data.drop(columns=['MDVP:Fo(Hz)','status'],axis=1)\n",
    "y = parkinsons_data['status']"
   ]
  },
  {
   "cell_type": "code",
   "execution_count": 91,
   "id": "8e712700",
   "metadata": {},
   "outputs": [
    {
     "name": "stdout",
     "output_type": "stream",
     "text": [
      "     MDVP:Fhi(Hz)  MDVP:Flo(Hz)  MDVP:Jitter(%)  MDVP:Jitter(Abs)  MDVP:RAP  \\\n",
      "0        0.112592      0.054815        0.195680          0.249012  0.145472   \n",
      "1        0.094930      0.278323        0.254130          0.288538  0.191233   \n",
      "2        0.059128      0.265288        0.280178          0.328063  0.229287   \n",
      "3        0.072927      0.264200        0.263342          0.328063  0.209056   \n",
      "4        0.080909      0.260107        0.354511          0.407115  0.282755   \n",
      "..            ...           ...             ...               ...       ...   \n",
      "190      0.262986      0.165722        0.092440          0.090909  0.093931   \n",
      "191      0.307974      0.138243        0.125794          0.090909  0.126686   \n",
      "192      0.281413      0.050727        0.378653          0.288538  0.267823   \n",
      "193      0.601807      0.054279        0.181703          0.130435  0.145472   \n",
      "194      0.322794      0.071948        0.126747          0.090909  0.109345   \n",
      "\n",
      "     MDVP:PPQ  Jitter:DDP  MDVP:Shimmer  MDVP:Shimmer(dB)  Shimmer:APQ3  ...  \\\n",
      "0    0.247588    0.145288      0.312215          0.280197      0.332627  ...   \n",
      "1    0.323687    0.191042      0.472887          0.444536      0.515986  ...   \n",
      "2    0.369239    0.229411      0.390634          0.326212      0.443374  ...   \n",
      "3    0.324759    0.208862      0.414278          0.354971      0.475539  ...   \n",
      "4    0.437299    0.282870      0.499452          0.410025      0.584553  ...   \n",
      "..        ...         ...           ...               ...           ...  ...   \n",
      "190  0.089496    0.094076      0.286014          0.262942      0.362288  ...   \n",
      "191  0.107181    0.126826      0.164050          0.146261      0.221302  ...   \n",
      "192  0.252947    0.267940      0.123608          0.140509      0.156587  ...   \n",
      "193  0.159700    0.145288      0.122512          0.128184      0.156009  ...   \n",
      "194  0.120579    0.109327      0.084900          0.086278      0.109977  ...   \n",
      "\n",
      "     MDVP:APQ  Shimmer:DDA       NHR       HNR      RPDE       DFA   spread1  \\\n",
      "0    0.172448     0.332584  0.068307  0.511745  0.369155  0.960148  0.569875   \n",
      "1    0.279424     0.516048  0.059331  0.432577  0.470830  0.977024  0.703277   \n",
      "2    0.219848     0.443317  0.039596  0.496220  0.404416  1.000000  0.636745   \n",
      "3    0.233785     0.475478  0.040997  0.495936  0.416255  0.975885  0.695627   \n",
      "4    0.286852     0.584542  0.054174  0.455499  0.375159  0.992813  0.762472   \n",
      "..        ...          ...       ...       ...       ...       ...       ...   \n",
      "190  0.155142     0.362306  0.085909  0.450134  0.447684  0.333127  0.257894   \n",
      "191  0.088828     0.221338  0.055543  0.435097  0.408567  0.434101  0.319956   \n",
      "192  0.072594     0.156631  0.338988  0.383728  0.352318  0.324299  0.212945   \n",
      "193  0.066544     0.155989  0.227838  0.429936  0.454176  0.277579  0.220650   \n",
      "194  0.050080     0.110027  0.137919  0.518898  0.481200  0.358856  0.405161   \n",
      "\n",
      "      spread2        D2       PPE  \n",
      "0    0.585765  0.390661  0.497310  \n",
      "1    0.741337  0.473145  0.671326  \n",
      "2    0.686371  0.408819  0.596682  \n",
      "3    0.738089  0.436977  0.671949  \n",
      "4    0.513798  0.404336  0.757611  \n",
      "..        ...       ...       ...  \n",
      "190  0.260408  0.549049  0.183318  \n",
      "191  0.276956  0.605474  0.257558  \n",
      "192  0.342577  0.558967  0.180580  \n",
      "193  0.452885  0.318222  0.163137  \n",
      "194  0.415095  0.503673  0.215460  \n",
      "\n",
      "[195 rows x 21 columns]\n"
     ]
    }
   ],
   "source": [
    "print(x)"
   ]
  },
  {
   "cell_type": "code",
   "execution_count": 92,
   "id": "28e191a4",
   "metadata": {},
   "outputs": [
    {
     "name": "stdout",
     "output_type": "stream",
     "text": [
      "0      1.0\n",
      "1      1.0\n",
      "2      1.0\n",
      "3      1.0\n",
      "4      1.0\n",
      "      ... \n",
      "190    0.0\n",
      "191    0.0\n",
      "192    0.0\n",
      "193    0.0\n",
      "194    0.0\n",
      "Name: status, Length: 195, dtype: float64\n"
     ]
    }
   ],
   "source": [
    "print(y)"
   ]
  },
  {
   "cell_type": "markdown",
   "id": "a01a2585",
   "metadata": {},
   "source": [
    "# Splitting dataset into training and test data\n",
    "\n",
    "\n"
   ]
  },
  {
   "cell_type": "code",
   "execution_count": 93,
   "id": "4b203225",
   "metadata": {},
   "outputs": [
    {
     "name": "stdout",
     "output_type": "stream",
     "text": [
      "(195, 21) (156, 21) (39, 21)\n"
     ]
    }
   ],
   "source": [
    "x_train, x_test, y_train, y_test = train_test_split(x, y, test_size=0.2, random_state=2)\n",
    "\n",
    "\n",
    "print(x.shape, x_train.shape, x_test.shape)\n"
   ]
  },
  {
   "cell_type": "markdown",
   "id": "1ec8221f",
   "metadata": {},
   "source": [
    "# Data Standarization"
   ]
  },
  {
   "cell_type": "code",
   "execution_count": 94,
   "id": "a3d5e771",
   "metadata": {},
   "outputs": [],
   "source": [
    "scaler = StandardScaler()\n"
   ]
  },
  {
   "cell_type": "code",
   "execution_count": 95,
   "id": "f33ab8f7",
   "metadata": {},
   "outputs": [
    {
     "data": {
      "text/html": [
       "<style>#sk-container-id-5 {color: black;background-color: white;}#sk-container-id-5 pre{padding: 0;}#sk-container-id-5 div.sk-toggleable {background-color: white;}#sk-container-id-5 label.sk-toggleable__label {cursor: pointer;display: block;width: 100%;margin-bottom: 0;padding: 0.3em;box-sizing: border-box;text-align: center;}#sk-container-id-5 label.sk-toggleable__label-arrow:before {content: \"▸\";float: left;margin-right: 0.25em;color: #696969;}#sk-container-id-5 label.sk-toggleable__label-arrow:hover:before {color: black;}#sk-container-id-5 div.sk-estimator:hover label.sk-toggleable__label-arrow:before {color: black;}#sk-container-id-5 div.sk-toggleable__content {max-height: 0;max-width: 0;overflow: hidden;text-align: left;background-color: #f0f8ff;}#sk-container-id-5 div.sk-toggleable__content pre {margin: 0.2em;color: black;border-radius: 0.25em;background-color: #f0f8ff;}#sk-container-id-5 input.sk-toggleable__control:checked~div.sk-toggleable__content {max-height: 200px;max-width: 100%;overflow: auto;}#sk-container-id-5 input.sk-toggleable__control:checked~label.sk-toggleable__label-arrow:before {content: \"▾\";}#sk-container-id-5 div.sk-estimator input.sk-toggleable__control:checked~label.sk-toggleable__label {background-color: #d4ebff;}#sk-container-id-5 div.sk-label input.sk-toggleable__control:checked~label.sk-toggleable__label {background-color: #d4ebff;}#sk-container-id-5 input.sk-hidden--visually {border: 0;clip: rect(1px 1px 1px 1px);clip: rect(1px, 1px, 1px, 1px);height: 1px;margin: -1px;overflow: hidden;padding: 0;position: absolute;width: 1px;}#sk-container-id-5 div.sk-estimator {font-family: monospace;background-color: #f0f8ff;border: 1px dotted black;border-radius: 0.25em;box-sizing: border-box;margin-bottom: 0.5em;}#sk-container-id-5 div.sk-estimator:hover {background-color: #d4ebff;}#sk-container-id-5 div.sk-parallel-item::after {content: \"\";width: 100%;border-bottom: 1px solid gray;flex-grow: 1;}#sk-container-id-5 div.sk-label:hover label.sk-toggleable__label {background-color: #d4ebff;}#sk-container-id-5 div.sk-serial::before {content: \"\";position: absolute;border-left: 1px solid gray;box-sizing: border-box;top: 0;bottom: 0;left: 50%;z-index: 0;}#sk-container-id-5 div.sk-serial {display: flex;flex-direction: column;align-items: center;background-color: white;padding-right: 0.2em;padding-left: 0.2em;position: relative;}#sk-container-id-5 div.sk-item {position: relative;z-index: 1;}#sk-container-id-5 div.sk-parallel {display: flex;align-items: stretch;justify-content: center;background-color: white;position: relative;}#sk-container-id-5 div.sk-item::before, #sk-container-id-5 div.sk-parallel-item::before {content: \"\";position: absolute;border-left: 1px solid gray;box-sizing: border-box;top: 0;bottom: 0;left: 50%;z-index: -1;}#sk-container-id-5 div.sk-parallel-item {display: flex;flex-direction: column;z-index: 1;position: relative;background-color: white;}#sk-container-id-5 div.sk-parallel-item:first-child::after {align-self: flex-end;width: 50%;}#sk-container-id-5 div.sk-parallel-item:last-child::after {align-self: flex-start;width: 50%;}#sk-container-id-5 div.sk-parallel-item:only-child::after {width: 0;}#sk-container-id-5 div.sk-dashed-wrapped {border: 1px dashed gray;margin: 0 0.4em 0.5em 0.4em;box-sizing: border-box;padding-bottom: 0.4em;background-color: white;}#sk-container-id-5 div.sk-label label {font-family: monospace;font-weight: bold;display: inline-block;line-height: 1.2em;}#sk-container-id-5 div.sk-label-container {text-align: center;}#sk-container-id-5 div.sk-container {/* jupyter's `normalize.less` sets `[hidden] { display: none; }` but bootstrap.min.css set `[hidden] { display: none !important; }` so we also need the `!important` here to be able to override the default hidden behavior on the sphinx rendered scikit-learn.org. See: https://github.com/scikit-learn/scikit-learn/issues/21755 */display: inline-block !important;position: relative;}#sk-container-id-5 div.sk-text-repr-fallback {display: none;}</style><div id=\"sk-container-id-5\" class=\"sk-top-container\"><div class=\"sk-text-repr-fallback\"><pre>StandardScaler()</pre><b>In a Jupyter environment, please rerun this cell to show the HTML representation or trust the notebook. <br />On GitHub, the HTML representation is unable to render, please try loading this page with nbviewer.org.</b></div><div class=\"sk-container\" hidden><div class=\"sk-item\"><div class=\"sk-estimator sk-toggleable\"><input class=\"sk-toggleable__control sk-hidden--visually\" id=\"sk-estimator-id-5\" type=\"checkbox\" checked><label for=\"sk-estimator-id-5\" class=\"sk-toggleable__label sk-toggleable__label-arrow\">StandardScaler</label><div class=\"sk-toggleable__content\"><pre>StandardScaler()</pre></div></div></div></div></div>"
      ],
      "text/plain": [
       "StandardScaler()"
      ]
     },
     "execution_count": 95,
     "metadata": {},
     "output_type": "execute_result"
    }
   ],
   "source": [
    "scaler.fit(x_train)"
   ]
  },
  {
   "cell_type": "code",
   "execution_count": 96,
   "id": "9d9ca7f5",
   "metadata": {},
   "outputs": [],
   "source": [
    "x_train = scaler.transform(x_train)\n",
    "\n",
    "x_test = scaler.transform(x_test)"
   ]
  },
  {
   "cell_type": "code",
   "execution_count": 97,
   "id": "3caec4af",
   "metadata": {},
   "outputs": [
    {
     "name": "stdout",
     "output_type": "stream",
     "text": [
      "[[-0.02731081 -0.87985049  0.36806203 ... -0.97586547 -0.55160318\n",
      "   0.07769494]\n",
      " [-0.83337041 -0.9284778  -0.12997764 ...  0.3981808  -0.61014073\n",
      "   0.39291782]\n",
      " [-0.29531068 -1.12211107 -0.55550578 ... -0.43937044 -0.62849605\n",
      "  -0.50948408]\n",
      " ...\n",
      " [-0.6637302  -0.160638   -0.46582048 ...  1.22001022 -0.47404629\n",
      "  -0.2159482 ]\n",
      " [ 0.19731822 -0.79063679 -0.53451561 ... -0.17896029 -0.47272835\n",
      "   0.28181221]\n",
      " [ 0.19922317 -0.61914972  0.29364231 ... -0.716232    1.23632066\n",
      "  -0.05829386]]\n"
     ]
    }
   ],
   "source": [
    "print(x_train)"
   ]
  },
  {
   "cell_type": "markdown",
   "id": "1c56dc99",
   "metadata": {},
   "source": [
    "# Support Vector machine Model"
   ]
  },
  {
   "cell_type": "code",
   "execution_count": 98,
   "id": "cccb8090",
   "metadata": {},
   "outputs": [],
   "source": [
    "model = svm.SVC(kernel='linear')     ##support vector classifier"
   ]
  },
  {
   "cell_type": "code",
   "execution_count": 99,
   "id": "63848346",
   "metadata": {},
   "outputs": [
    {
     "data": {
      "text/html": [
       "<style>#sk-container-id-6 {color: black;background-color: white;}#sk-container-id-6 pre{padding: 0;}#sk-container-id-6 div.sk-toggleable {background-color: white;}#sk-container-id-6 label.sk-toggleable__label {cursor: pointer;display: block;width: 100%;margin-bottom: 0;padding: 0.3em;box-sizing: border-box;text-align: center;}#sk-container-id-6 label.sk-toggleable__label-arrow:before {content: \"▸\";float: left;margin-right: 0.25em;color: #696969;}#sk-container-id-6 label.sk-toggleable__label-arrow:hover:before {color: black;}#sk-container-id-6 div.sk-estimator:hover label.sk-toggleable__label-arrow:before {color: black;}#sk-container-id-6 div.sk-toggleable__content {max-height: 0;max-width: 0;overflow: hidden;text-align: left;background-color: #f0f8ff;}#sk-container-id-6 div.sk-toggleable__content pre {margin: 0.2em;color: black;border-radius: 0.25em;background-color: #f0f8ff;}#sk-container-id-6 input.sk-toggleable__control:checked~div.sk-toggleable__content {max-height: 200px;max-width: 100%;overflow: auto;}#sk-container-id-6 input.sk-toggleable__control:checked~label.sk-toggleable__label-arrow:before {content: \"▾\";}#sk-container-id-6 div.sk-estimator input.sk-toggleable__control:checked~label.sk-toggleable__label {background-color: #d4ebff;}#sk-container-id-6 div.sk-label input.sk-toggleable__control:checked~label.sk-toggleable__label {background-color: #d4ebff;}#sk-container-id-6 input.sk-hidden--visually {border: 0;clip: rect(1px 1px 1px 1px);clip: rect(1px, 1px, 1px, 1px);height: 1px;margin: -1px;overflow: hidden;padding: 0;position: absolute;width: 1px;}#sk-container-id-6 div.sk-estimator {font-family: monospace;background-color: #f0f8ff;border: 1px dotted black;border-radius: 0.25em;box-sizing: border-box;margin-bottom: 0.5em;}#sk-container-id-6 div.sk-estimator:hover {background-color: #d4ebff;}#sk-container-id-6 div.sk-parallel-item::after {content: \"\";width: 100%;border-bottom: 1px solid gray;flex-grow: 1;}#sk-container-id-6 div.sk-label:hover label.sk-toggleable__label {background-color: #d4ebff;}#sk-container-id-6 div.sk-serial::before {content: \"\";position: absolute;border-left: 1px solid gray;box-sizing: border-box;top: 0;bottom: 0;left: 50%;z-index: 0;}#sk-container-id-6 div.sk-serial {display: flex;flex-direction: column;align-items: center;background-color: white;padding-right: 0.2em;padding-left: 0.2em;position: relative;}#sk-container-id-6 div.sk-item {position: relative;z-index: 1;}#sk-container-id-6 div.sk-parallel {display: flex;align-items: stretch;justify-content: center;background-color: white;position: relative;}#sk-container-id-6 div.sk-item::before, #sk-container-id-6 div.sk-parallel-item::before {content: \"\";position: absolute;border-left: 1px solid gray;box-sizing: border-box;top: 0;bottom: 0;left: 50%;z-index: -1;}#sk-container-id-6 div.sk-parallel-item {display: flex;flex-direction: column;z-index: 1;position: relative;background-color: white;}#sk-container-id-6 div.sk-parallel-item:first-child::after {align-self: flex-end;width: 50%;}#sk-container-id-6 div.sk-parallel-item:last-child::after {align-self: flex-start;width: 50%;}#sk-container-id-6 div.sk-parallel-item:only-child::after {width: 0;}#sk-container-id-6 div.sk-dashed-wrapped {border: 1px dashed gray;margin: 0 0.4em 0.5em 0.4em;box-sizing: border-box;padding-bottom: 0.4em;background-color: white;}#sk-container-id-6 div.sk-label label {font-family: monospace;font-weight: bold;display: inline-block;line-height: 1.2em;}#sk-container-id-6 div.sk-label-container {text-align: center;}#sk-container-id-6 div.sk-container {/* jupyter's `normalize.less` sets `[hidden] { display: none; }` but bootstrap.min.css set `[hidden] { display: none !important; }` so we also need the `!important` here to be able to override the default hidden behavior on the sphinx rendered scikit-learn.org. See: https://github.com/scikit-learn/scikit-learn/issues/21755 */display: inline-block !important;position: relative;}#sk-container-id-6 div.sk-text-repr-fallback {display: none;}</style><div id=\"sk-container-id-6\" class=\"sk-top-container\"><div class=\"sk-text-repr-fallback\"><pre>SVC(kernel=&#x27;linear&#x27;)</pre><b>In a Jupyter environment, please rerun this cell to show the HTML representation or trust the notebook. <br />On GitHub, the HTML representation is unable to render, please try loading this page with nbviewer.org.</b></div><div class=\"sk-container\" hidden><div class=\"sk-item\"><div class=\"sk-estimator sk-toggleable\"><input class=\"sk-toggleable__control sk-hidden--visually\" id=\"sk-estimator-id-6\" type=\"checkbox\" checked><label for=\"sk-estimator-id-6\" class=\"sk-toggleable__label sk-toggleable__label-arrow\">SVC</label><div class=\"sk-toggleable__content\"><pre>SVC(kernel=&#x27;linear&#x27;)</pre></div></div></div></div></div>"
      ],
      "text/plain": [
       "SVC(kernel='linear')"
      ]
     },
     "execution_count": 99,
     "metadata": {},
     "output_type": "execute_result"
    }
   ],
   "source": [
    "model.fit(x_train, y_train)"
   ]
  },
  {
   "cell_type": "markdown",
   "id": "773c6a11",
   "metadata": {},
   "source": [
    "# Non parametric model"
   ]
  },
  {
   "cell_type": "markdown",
   "id": "221861e2",
   "metadata": {},
   "source": [
    "# 1.K-Nearest Neighbour Algorithm"
   ]
  },
  {
   "cell_type": "code",
   "execution_count": 100,
   "id": "98a5514f",
   "metadata": {},
   "outputs": [
    {
     "name": "stdout",
     "output_type": "stream",
     "text": [
      "| Algorithm   |   Accuracy |   Precision |   Recall |   F1-Score |\n",
      "|:------------|-----------:|------------:|---------:|-----------:|\n",
      "| KNN         |   0.769231 |    0.802947 | 0.769231 |   0.781582 |\n"
     ]
    }
   ],
   "source": [
    "knn = KNeighborsClassifier(n_neighbors=5)\n",
    "\n",
    "\n",
    "knn.fit(x_train, y_train)\n",
    "\n",
    "# make predictions on the testing data\n",
    "y_train_pred_knn = knn.predict(x_train)\n",
    "y_test_pred_knn = knn.predict(x_test)\n",
    "\n",
    "# calculation of the accuracy, precision, recall, and f1-score of the model\n",
    "accuracy_test_knn = accuracy_score(y_test, y_test_pred_knn)\n",
    "precision_test_knn = precision_score(y_test, y_test_pred_knn, average=\"weighted\")\n",
    "recall_test_knn = recall_score(y_test, y_test_pred_knn, average=\"weighted\")\n",
    "f1_score_test_knn = f1_score(y_test, y_test_pred_knn, average=\"weighted\")\n",
    "\n",
    "table = [\n",
    "    [\"KNN\", accuracy_test_knn, precision_test_knn, recall_test_knn, f1_score_test_knn]\n",
    "    # add rows for other algorithms\n",
    "]\n",
    "\n",
    "# Print the table\n",
    "headers = [\"Algorithm\", \"Accuracy\", \"Precision\", \"Recall\", \"F1-Score\"]\n",
    "print(tabulate(table, headers=headers, tablefmt=\"pipe\"))\n",
    "\n"
   ]
  },
  {
   "cell_type": "markdown",
   "id": "0d76d01a",
   "metadata": {},
   "source": [
    "# Random Forest Algorithm"
   ]
  },
  {
   "cell_type": "code",
   "execution_count": 101,
   "id": "c346d730",
   "metadata": {},
   "outputs": [
    {
     "name": "stdout",
     "output_type": "stream",
     "text": [
      "| Algorithm     |   Accuracy |   Precision |   Recall |   F1-Score |\n",
      "|:--------------|-----------:|------------:|---------:|-----------:|\n",
      "| Random Forest |   0.820513 |    0.928571 |  0.83871 |   0.881356 |\n"
     ]
    }
   ],
   "source": [
    "\n",
    "rf = RandomForestClassifier(n_estimators=100, random_state=42)\n",
    "\n",
    "# train the Random Forest classifier on the training data\n",
    "rf.fit(x_train, y_train)\n",
    "\n",
    "# make predictions on the training and testing data\n",
    "y_train_pred_rf = rf.predict(x_train)\n",
    "y_test_pred_rf = rf.predict(x_test)\n",
    "\n",
    "\n",
    "# calculation of the accuracy, precision, recall, and f1-score of the model on the testing data\n",
    "accuracy_test_rf = accuracy_score(y_test, y_test_pred_rf)\n",
    "precision_test_rf = precision_score(y_test, y_test_pred_rf)\n",
    "recall_test_rf = recall_score(y_test, y_test_pred_rf)\n",
    "f1_score_test_rf = f1_score(y_test, y_test_pred_rf)\n",
    "\n",
    "table = [\n",
    "    [\"Random Forest\", accuracy_test_rf, precision_test_rf, recall_test_rf, f1_score_test_rf]\n",
    "    # add rows for other algorithms\n",
    "]\n",
    "\n",
    "# Print the table\n",
    "headers = [\"Algorithm\", \"Accuracy\", \"Precision\", \"Recall\", \"F1-Score\"]\n",
    "print(tabulate(table, headers=headers, tablefmt=\"pipe\"))\n",
    "\n"
   ]
  },
  {
   "cell_type": "markdown",
   "id": "43143994",
   "metadata": {},
   "source": [
    "# Table for Non Parametric model"
   ]
  },
  {
   "cell_type": "code",
   "execution_count": 102,
   "id": "bef413e2",
   "metadata": {},
   "outputs": [
    {
     "name": "stdout",
     "output_type": "stream",
     "text": [
      "+---------------+--------------------+--------------------+--------------------+--------------------+\n",
      "|   Algorithm   |      Accuracy      |     Precision      |       Recall       |      F1-score      |\n",
      "+---------------+--------------------+--------------------+--------------------+--------------------+\n",
      "|      KNN      | 0.7692307692307693 | 0.802947052947053  | 0.7692307692307693 | 0.7815823783709599 |\n",
      "| Random Forest | 0.8205128205128205 | 0.9285714285714286 | 0.8387096774193549 | 0.8813559322033899 |\n",
      "+---------------+--------------------+--------------------+--------------------+--------------------+\n"
     ]
    }
   ],
   "source": [
    "\n",
    "data = [(\"KNN\", accuracy_test_knn, precision_test_knn, recall_test_knn, f1_score_test_knn),\n",
    "        (\"Random Forest\", accuracy_test_rf, precision_test_rf, recall_test_rf, f1_score_test_rf)]\n",
    "headers = [\"Algorithm\", \"Accuracy\", \"Precision\", \"Recall\", \"F1-score\"]\n",
    "\n",
    "# create the table using the tabulate function\n",
    "table = tabulate(data, headers=headers, tablefmt=\"pretty\")\n",
    "\n",
    "# print the table\n",
    "print(table)"
   ]
  },
  {
   "cell_type": "code",
   "execution_count": 103,
   "id": "9f5ba16c",
   "metadata": {},
   "outputs": [
    {
     "data": {
      "image/png": "[encoded data removed]",
      "text/plain": [
       "<Figure size 640x480 with 1 Axes>"
      ]
     },
     "metadata": {},
     "output_type": "display_data"
    }
   ],
   "source": [
    "# create a KNN classifier\n",
    "knn = KNeighborsClassifier(n_neighbors=5)\n",
    "\n",
    "# train the KNN classifier on the training data\n",
    "knn.fit(x_train, y_train)\n",
    "\n",
    "# make predictions on the testing data\n",
    "y_test_pred_knn = knn.predict(x_test)\n",
    "\n",
    "# calculation of the accuracy, precision, recall, and F1-score of the KNN classifier on the testing data\n",
    "accuracy_test_knn = accuracy_score(y_test, y_test_pred_knn)\n",
    "precision_test_knn = precision_score(y_test, y_test_pred_knn, average=\"weighted\")\n",
    "recall_test_knn = recall_score(y_test, y_test_pred_knn, average=\"weighted\")\n",
    "f1_score_test_knn = f1_score(y_test, y_test_pred_knn, average=\"weighted\")\n",
    "\n",
    "# create a Random Forest classifier\n",
    "rf = RandomForestClassifier(n_estimators=100, random_state=42)\n",
    "\n",
    "# train the Random Forest classifier on the training data\n",
    "rf.fit(x_train, y_train)\n",
    "\n",
    "# make predictions on the testing data\n",
    "y_test_pred_rf = rf.predict(x_test)\n",
    "\n",
    "# calculate the accuracy, precision, recall, and F1-score of the Random Forest classifier on the testing data\n",
    "accuracy_test_rf = accuracy_score(y_test, y_test_pred_rf)\n",
    "precision_test_rf = precision_score(y_test, y_test_pred_rf, average=\"weighted\")\n",
    "recall_test_rf = recall_score(y_test, y_test_pred_rf, average=\"weighted\")\n",
    "f1_score_test_rf = f1_score(y_test, y_test_pred_rf, average=\"weighted\")\n",
    "\n",
    "# create a bar chart for accuracy, precision, recall, and F1-score of both classifiers\n",
    "labels = ['Accuracy', 'Precision', 'Recall', 'F1-score']\n",
    "knn_scores = [accuracy_test_knn, precision_test_knn, recall_test_knn, f1_score_test_knn]\n",
    "rf_scores = [accuracy_test_rf, precision_test_rf, recall_test_rf, f1_score_test_rf]\n",
    "\n",
    "x = np.arange(len(labels))\n",
    "width = 0.35\n",
    "\n",
    "fig, ax = plt.subplots()\n",
    "rects1 = ax.bar(x - width/2, knn_scores, width, label='KNN')\n",
    "rects2 = ax.bar(x + width/2, rf_scores, width, label='Random Forest')\n",
    "\n",
    "ax.set_ylabel('Score')\n",
    "ax.set_xticks(x)\n",
    "ax.set_xticklabels(labels)\n",
    "ax.legend()\n",
    "\n",
    "plt.title('Comparison of KNN and Random forest on Dataset')\n",
    "plt.show()"
   ]
  },
  {
   "cell_type": "markdown",
   "id": "3f17b445",
   "metadata": {},
   "source": [
    "# Parametric Model"
   ]
  },
  {
   "cell_type": "markdown",
   "id": "4b2aa0af",
   "metadata": {},
   "source": [
    "# Naive Bayes Algorithm"
   ]
  },
  {
   "cell_type": "code",
   "execution_count": 104,
   "id": "80857815",
   "metadata": {},
   "outputs": [
    {
     "name": "stdout",
     "output_type": "stream",
     "text": [
      "| Algorithm   |   Accuracy |   Precision |   Recall |   F1-Score |\n",
      "|:------------|-----------:|------------:|---------:|-----------:|\n",
      "| Naive Bayes |   0.615385 |    0.866221 | 0.615385 |   0.647062 |\n"
     ]
    }
   ],
   "source": [
    "nb = GaussianNB()\n",
    "\n",
    "nb.fit(x_train, y_train)\n",
    "\n",
    "\n",
    "y_train_pred_nb = nb.predict(x_train)\n",
    "y_test_pred_nb = nb.predict(x_test)\n",
    "\n",
    "\n",
    "\n",
    "accuracy_test_nb = accuracy_score(y_test, y_test_pred_nb)\n",
    "precision_test_nb = precision_score(y_test, y_test_pred_nb, average=\"weighted\")\n",
    "recall_test_nb = recall_score(y_test, y_test_pred_nb, average=\"weighted\")\n",
    "f1_score_test_nb = f1_score(y_test, y_test_pred_nb, average=\"weighted\")\n",
    "\n",
    "table = [\n",
    "    [\"Naive Bayes\", accuracy_test_nb, precision_test_nb, recall_test_nb, f1_score_test_nb]\n",
    "    # add rows for other algorithms\n",
    "]\n",
    "\n",
    "# Print the table\n",
    "headers = [\"Algorithm\", \"Accuracy\", \"Precision\", \"Recall\", \"F1-Score\"]\n",
    "print(tabulate(table, headers=headers, tablefmt=\"pipe\"))\n",
    "\n",
    "\n",
    "\n"
   ]
  },
  {
   "cell_type": "markdown",
   "id": "66702450",
   "metadata": {},
   "source": [
    "# Logistic Regression\n"
   ]
  },
  {
   "cell_type": "code",
   "execution_count": 105,
   "id": "16ee755d",
   "metadata": {},
   "outputs": [
    {
     "name": "stdout",
     "output_type": "stream",
     "text": [
      "| Algorithm           |   Accuracy |   Precision |   Recall |   F1-Score |\n",
      "|:--------------------|-----------:|------------:|---------:|-----------:|\n",
      "| Logistic Regression |   0.820513 |    0.829345 | 0.615385 |   0.647062 |\n"
     ]
    }
   ],
   "source": [
    "lr = LogisticRegression()\n",
    "\n",
    "\n",
    "lr.fit(x_train, y_train)\n",
    "\n",
    "\n",
    "y_train_pred_lr = lr.predict(x_train)\n",
    "y_test_pred_lr = lr.predict(x_test)\n",
    "\n",
    "# calculation of the accuracy, precision, recall, and F1-score of the Logistic Regression classifier on the testing data\n",
    "accuracy_test_lr = accuracy_score(y_test, y_test_pred_lr)\n",
    "precision_test_lr = precision_score(y_test, y_test_pred_lr, average=\"weighted\")\n",
    "recall_test_lr = recall_score(y_test, y_test_pred_lr, average=\"weighted\")\n",
    "f1_score_test_lr = f1_score(y_test, y_test_pred_lr, average=\"weighted\")\n",
    "\n",
    "\n",
    "table = [\n",
    "    [\"Logistic Regression\", accuracy_test_lr, precision_test_lr, recall_test_nb, f1_score_test_nb]\n",
    "    # add rows for other algorithms\n",
    "]\n",
    "\n",
    "# Print the table\n",
    "headers = [\"Algorithm\", \"Accuracy\", \"Precision\", \"Recall\", \"F1-Score\"]\n",
    "print(tabulate(table, headers=headers, tablefmt=\"pipe\"))\n"
   ]
  },
  {
   "cell_type": "markdown",
   "id": "b7e78351",
   "metadata": {},
   "source": [
    "# Table for Parametric model"
   ]
  },
  {
   "cell_type": "code",
   "execution_count": 106,
   "id": "556bd1d9",
   "metadata": {},
   "outputs": [
    {
     "name": "stdout",
     "output_type": "stream",
     "text": [
      "+---------------------+--------------------+--------------------+--------------------+--------------------+\n",
      "|      Algorithm      |      Accuracy      |     Precision      |       Recall       |      F1-score      |\n",
      "+---------------------+--------------------+--------------------+--------------------+--------------------+\n",
      "|     Naive Bayes     | 0.6153846153846154 | 0.8662207357859532 | 0.6153846153846154 | 0.6470619291484082 |\n",
      "| Logistic Regression | 0.8205128205128205 | 0.8293447293447295 | 0.8205128205128205 | 0.8243206488143807 |\n",
      "+---------------------+--------------------+--------------------+--------------------+--------------------+\n"
     ]
    }
   ],
   "source": [
    "\n",
    "data = [(\"Naive Bayes\", accuracy_test_nb, precision_test_nb, recall_test_nb, f1_score_test_nb),\n",
    "        (\"Logistic Regression\", accuracy_test_lr, precision_test_lr, recall_test_lr, f1_score_test_lr)]\n",
    "headers = [\"Algorithm\", \"Accuracy\", \"Precision\", \"Recall\", \"F1-score\"]\n",
    "\n",
    "# create the table using the tabulate function\n",
    "table = tabulate(data, headers=headers, tablefmt=\"pretty\")\n",
    "\n",
    "# print the table\n",
    "print(table)"
   ]
  },
  {
   "cell_type": "code",
   "execution_count": 107,
   "id": "91618e31",
   "metadata": {},
   "outputs": [
    {
     "data": {
      "image/png": "[encoded data removed]",
      "text/plain": [
       "<Figure size 640x480 with 1 Axes>"
      ]
     },
     "metadata": {},
     "output_type": "display_data"
    }
   ],
   "source": [
    "nb = GaussianNB()\n",
    "nb.fit(x_train, y_train)\n",
    "nb_acc = accuracy_score(y_test, nb.predict(x_test))\n",
    "nb_prec = precision_score(y_test, nb.predict(x_test), average='weighted')\n",
    "nb_recall = recall_score(y_test, nb.predict(x_test), average='weighted')\n",
    "nb_f1 = f1_score(y_test, nb.predict(x_test), average='weighted')\n",
    "\n",
    "# Train and test the logistic regression algorithm\n",
    "lr = LogisticRegression()\n",
    "lr.fit(x_train, y_train)\n",
    "lr_acc = accuracy_score(y_test, lr.predict(x_test))\n",
    "lr_prec = precision_score(y_test, lr.predict(x_test), average='weighted')\n",
    "lr_recall = recall_score(y_test, lr.predict(x_test), average='weighted')\n",
    "lr_f1 = f1_score(y_test, lr.predict(x_test), average='weighted')\n",
    "\n",
    "# Plot the bar chart\n",
    "labels = ['Accuracy', 'Precision', 'Recall', 'F1-Score']\n",
    "nb_scores = [nb_acc, nb_prec, nb_recall, nb_f1]\n",
    "lr_scores = [lr_acc, lr_prec, lr_recall, lr_f1]\n",
    "\n",
    "x = np.arange(len(labels)) \n",
    "width = 0.35  \n",
    "\n",
    "fig, ax = plt.subplots()\n",
    "rects1 = ax.bar(x - width/2, nb_scores, width, label='Naive Bayes')\n",
    "rects2 = ax.bar(x + width/2, lr_scores, width, label='Logistic Regression')\n",
    "\n",
    "ax.set_ylabel('Score')\n",
    "ax.set_xticks(x)\n",
    "ax.set_xticklabels(labels)\n",
    "ax.legend()\n",
    "\n",
    "plt.title('Comparison of Naive Bayes and Logistic Regression on Dataset')\n",
    "plt.show()"
   ]
  },
  {
   "cell_type": "markdown",
   "id": "08375475",
   "metadata": {},
   "source": []
  },
  {
   "cell_type": "code",
   "execution_count": 108,
   "id": "6bb4c975",
   "metadata": {},
   "outputs": [
    {
     "name": "stdout",
     "output_type": "stream",
     "text": [
      "The Random Forest algorithm has the highest accuracy:  0.8205128205128205\n"
     ]
    }
   ],
   "source": [
    "knn_acc = accuracy_score(y_test, knn.predict(x_test))\n",
    "\n",
    "rf_acc = accuracy_score(y_test, rf.predict(x_test))\n",
    "\n",
    "nb_acc = accuracy_score(y_test, nb.predict(x_test))\n",
    "\n",
    "lr_acc = accuracy_score(y_test, lr.predict(x_test))\n",
    "\n",
    "# Compare the accuracy of the four algorithms and select the one with the highest accuracy\n",
    "if knn_acc > nb_acc and knn_acc > lr_acc and knn_acc > rf_acc:\n",
    "    print(\"The KNN algorithm has the highest accuracy: \", knn_acc)\n",
    "elif nb_acc > knn_acc and nb_acc > lr_acc and nb_acc > rf_acc:\n",
    "    print(\"The Naive Bayes algorithm has the highest accuracy: \", nb_acc)\n",
    "elif lr_acc > knn_acc and lr_acc > nb_acc and lr_acc > rf_acc:\n",
    "    print(\"The Logistic Regression algorithm has the highest accuracy: \", lr_acc)\n",
    "else:\n",
    "    print(\"The Random Forest algorithm has the highest accuracy: \", rf_acc)"
   ]
  },
  {
   "cell_type": "code",
   "execution_count": 109,
   "id": "e63dc092",
   "metadata": {},
   "outputs": [
    {
     "name": "stdout",
     "output_type": "stream",
     "text": [
      "Accuracy score: 0.8717948717948718\n"
     ]
    }
   ],
   "source": [
    "knn = KNeighborsClassifier(n_neighbors=3)\n",
    "\n",
    "# Fit the model to the training data\n",
    "knn.fit(x_train, y_train)\n",
    "\n",
    "# Predict the labels for the test data\n",
    "y_pred = knn.predict(x_test)\n",
    "\n",
    "# Calculate the accuracy score\n",
    "accuracy = accuracy_score(y_test, y_pred)\n",
    "\n",
    "# Print the accuracy score\n",
    "print(\"Accuracy score:\", accuracy)"
   ]
  },
  {
   "cell_type": "code",
   "execution_count": 110,
   "id": "354cfb3e",
   "metadata": {},
   "outputs": [
    {
     "name": "stdout",
     "output_type": "stream",
     "text": [
      "Accuracy score: 0.8205128205128205\n"
     ]
    }
   ],
   "source": [
    "rf = RandomForestClassifier(n_estimators=100)\n",
    "\n",
    "# Fit the model to the training data\n",
    "rf.fit(x_train, y_train)\n",
    "\n",
    "# Predict the labels for the test data\n",
    "y_pred = rf.predict(x_test)\n",
    "\n",
    "# Calculate the accuracy score\n",
    "accuracy = accuracy_score(y_test, y_pred)\n",
    "\n",
    "# Print the accuracy score\n",
    "print(\"Accuracy score:\", accuracy)"
   ]
  },
  {
   "cell_type": "code",
   "execution_count": 111,
   "id": "dcc8257d",
   "metadata": {},
   "outputs": [
    {
     "name": "stdout",
     "output_type": "stream",
     "text": [
      "Accuracy score: 0.6153846153846154\n"
     ]
    }
   ],
   "source": [
    "# Initialize the Naive Bayes model\n",
    "nb = GaussianNB()\n",
    "\n",
    "# Fit the model to the training data\n",
    "nb.fit(x_train, y_train)\n",
    "\n",
    "# Predict the labels for the test data\n",
    "y_pred = nb.predict(x_test)\n",
    "\n",
    "# Calculate the accuracy score\n",
    "accuracy = accuracy_score(y_test, y_pred)\n",
    "\n",
    "# Print the accuracy score\n",
    "print(\"Accuracy score:\", accuracy)"
   ]
  },
  {
   "cell_type": "code",
   "execution_count": 112,
   "id": "85d256e4",
   "metadata": {},
   "outputs": [
    {
     "name": "stdout",
     "output_type": "stream",
     "text": [
      "Accuracy score: 0.8205128205128205\n"
     ]
    }
   ],
   "source": [
    "lr = LogisticRegression()\n",
    "\n",
    "# Fit the model to the training data\n",
    "lr.fit(x_train, y_train)\n",
    "\n",
    "# Predict the labels for the test data\n",
    "y_pred = lr.predict(x_test)\n",
    "\n",
    "# Calculate the accuracy score\n",
    "accuracy = accuracy_score(y_test, y_pred)\n",
    "\n",
    "# Print the accuracy score\n",
    "print(\"Accuracy score:\", accuracy)\n",
    "\n",
    "\n",
    "\n",
    "\n",
    "\n",
    "\n"
   ]
  },
  {
   "cell_type": "markdown",
   "id": "90c4d3be",
   "metadata": {},
   "source": [
    "# Choosing the Most accurate algo for Parkinson's disease"
   ]
  },
  {
   "cell_type": "code",
   "execution_count": 113,
   "id": "d1fac696",
   "metadata": {
    "scrolled": true
   },
   "outputs": [
    {
     "data": {
      "image/png": "[encoded data removed]",
      "text/plain": [
       "<Figure size 1000x500 with 2 Axes>"
      ]
     },
     "metadata": {},
     "output_type": "display_data"
    }
   ],
   "source": [
    "\n",
    "\n",
    "algorithms = ['KNN', 'RF', 'NB', 'LR']\n",
    "accuracy_scores = [0.87, 0.794, 0.615, 0.82]\n",
    "\n",
    "# Create the bar chart subplot\n",
    "fig, (ax1, ax2) = plt.subplots(1, 2, figsize=(10, 5))\n",
    "bars = ax1.bar(algorithms, accuracy_scores, color=['red', 'yellow', 'green', 'blue'])\n",
    "ax1.set_title('Accuracy Scores')\n",
    "ax1.set_xlabel('Algorithm')\n",
    "ax1.set_ylabel('Accuracy Score')\n",
    "\n",
    "# Add text labels to the top of the bars\n",
    "for i, bar in enumerate(bars):\n",
    "    ax1.text(bar.get_x() + bar.get_width() / 2, bar.get_height() + 0.01, str(accuracy_scores[i]), ha='center')\n",
    "\n",
    "x_labels = ['KNN', 'RF', 'NB', 'Logistic Regression']\n",
    "y_values = [0.87, 0.794, 0.615, 0.82]\n",
    "\n",
    "# Create the line plot subplot\n",
    "ax2.plot(x_labels, y_values)\n",
    "ax2.set_title('Comparison of Accuracy Scores')\n",
    "ax2.set_xlabel('Algorithm')\n",
    "ax2.set_ylabel('Accuracy Score')\n",
    "ax2.set_ylim(0.6, 1.0)\n",
    "\n",
    "# Add text labels to the line plot\n",
    "for i, value in enumerate(y_values):\n",
    "    ax2.text(x_labels[i], value + 0.01, str(value), ha='center')\n",
    "    \n",
    "    ax2.scatter(x_labels, y_values, color='blue')\n",
    "\n",
    "# Show the plot\n",
    "plt.show()"
   ]
  },
  {
   "cell_type": "code",
   "execution_count": 114,
   "id": "a7acf0dc",
   "metadata": {},
   "outputs": [
    {
     "name": "stdout",
     "output_type": "stream",
     "text": [
      "The KNN algorithm has the highest accuracy:  0.8717948717948718\n"
     ]
    }
   ],
   "source": [
    "knn_acc = accuracy_score(y_test, knn.predict(x_test))\n",
    "\n",
    "rf_acc = accuracy_score(y_test, rf.predict(x_test))\n",
    "\n",
    "nb_acc = accuracy_score(y_test, nb.predict(x_test))\n",
    "\n",
    "lr_acc = accuracy_score(y_test, lr.predict(x_test))\n",
    "\n",
    "# Compare the accuracy of the four algorithms and select the one with the highest accuracy\n",
    "if knn_acc > nb_acc and knn_acc > lr_acc and knn_acc > rf_acc:\n",
    "    print(\"The KNN algorithm has the highest accuracy: \", knn_acc)\n",
    "elif nb_acc > knn_acc and nb_acc > lr_acc and nb_acc > rf_acc:\n",
    "    print(\"The Naive Bayes algorithm has the highest accuracy: \", nb_acc)\n",
    "elif lr_acc > knn_acc and lr_acc > nb_acc and lr_acc > rf_acc:\n",
    "    print(\"The Logistic Regression algorithm has the highest accuracy: \", lr_acc)\n",
    "else:\n",
    "    print(\"The Random Forest algorithm has the highest accuracy: \", rf_acc)"
   ]
  },
  {
   "cell_type": "code",
   "execution_count": 117,
   "id": "05f8fe3d",
   "metadata": {},
   "outputs": [
    {
     "name": "stdout",
     "output_type": "stream",
     "text": [
      "Accuracy: 0.715\n"
     ]
    }
   ],
   "source": [
    "x, y = make_classification(n_samples=1000, n_features=10, random_state=42)\n",
    "\n",
    "x_train, x_test, y_train, y_test = train_test_split(x, y, test_size=0.2, random_state=42)\n",
    "\n",
    "\n",
    "# Definez the weak learner (KNN in this case)\n",
    "class WeakLearner:\n",
    "    def __init__(self, x, y, k):\n",
    "        self.x = x\n",
    "        self.y = y\n",
    "        self.k = k\n",
    "    \n",
    "    def predict(self, x):\n",
    "        distances = np.sqrt(np.sum((self.x - x[:, np.newaxis])**2, axis=2))\n",
    "        indices = np.argsort(distances, axis=1)\n",
    "        k_nearest_labels = self.y[indices[:, :self.k]]\n",
    "        predictions = np.sign(np.sum(k_nearest_labels, axis=1))\n",
    "        return predictions\n",
    "\n",
    "# Define the AdaBoost algorithm\n",
    "class AdaBoost:\n",
    "    def __init__(self, x, y, weak_learner, n_estimators):\n",
    "        self.x = x\n",
    "        self.y = y\n",
    "        self.weak_learner = weak_learner\n",
    "        self.n_estimators = n_estimators\n",
    "        self.alpha = []\n",
    "        self.weak_learners = []\n",
    "    \n",
    "    def fit(self):\n",
    "        n_samples = self.x.shape[0]\n",
    "        weights = np.ones(n_samples) / n_samples\n",
    "\n",
    "        for _ in range(self.n_estimators):\n",
    "            weak_learner = self.weak_learner(self.x, self.y, k=5) \n",
    "            predictions = weak_learner.predict(self.x)\n",
    "            error = np.sum(weights[predictions != self.y])\n",
    "            alpha = 0.5 * np.log((1 - error) / max(error, 1e-16))\n",
    "            weights *= np.exp(-alpha * self.y * predictions)\n",
    "            weights /= np.sum(weights)\n",
    "            self.alpha.append(alpha)\n",
    "            self.weak_learners.append(weak_learner)\n",
    "    \n",
    "    def predict(self, x):\n",
    "        predictions = np.zeros(x.shape[0])\n",
    "        for alpha, weak_learner in zip(self.alpha, self.weak_learners):\n",
    "            predictions += alpha * weak_learner.predict(x)\n",
    "        return np.sign(predictions)\n",
    "\n",
    "# Initialize and train the AdaBoost classifier with KNN as the base estimator\n",
    "adaboost_knn = AdaBoost(x_train, y_train, WeakLearner, n_estimators=50)\n",
    "adaboost_knn.fit()\n",
    "\n",
    "# Make predictions on the test set\n",
    "y_pred = adaboost_knn.predict(x_test)\n",
    "\n",
    "# Calculate the accuracy of the AdaBoost classifier with KNN\n",
    "accuracy = accuracy_score(y_test, y_pred)\n",
    "print(\"Accuracy:\", accuracy)\n"
   ]
  },
  {
   "cell_type": "code",
   "execution_count": 119,
   "id": "10d28fda",
   "metadata": {},
   "outputs": [
    {
     "name": "stdout",
     "output_type": "stream",
     "text": [
      "Accuracy: 0.855\n"
     ]
    }
   ],
   "source": [
    "# Define the weak learner (Random Forest in this case)\n",
    "class WeakLearner:\n",
    "    def __init__(self, x, y, n_estimators, max_depth):\n",
    "        self.x = x\n",
    "        self.y = y\n",
    "        self.n_estimators = n_estimators\n",
    "        self.max_depth = max_depth\n",
    "        self.estimators = []\n",
    "    \n",
    "    def train(self):\n",
    "        n_samples = self.x.shape[0]\n",
    "        for _ in range(self.n_estimators):\n",
    "            indices = np.random.choice(n_samples, n_samples, replace=True)\n",
    "            x_bootstrap = self.x[indices]\n",
    "            y_bootstrap = self.y[indices]\n",
    "            estimator = DecisionTree(max_depth=self.max_depth)\n",
    "            estimator.fit(x_bootstrap, y_bootstrap)\n",
    "            self.estimators.append(estimator)\n",
    "    \n",
    "    def predict(self, x):\n",
    "        predictions = np.zeros(x.shape[0])\n",
    "        for estimator in self.estimators:\n",
    "            predictions += estimator.predict(x)\n",
    "        return np.sign(predictions)\n",
    "\n",
    "# Define the AdaBoost algorithm\n",
    "class AdaBoost:\n",
    "    def __init__(self, n_estimators, base_learner, max_depth=1):\n",
    "        self.n_estimators = n_estimators\n",
    "        self.base_learner = base_learner\n",
    "        self.max_depth = max_depth\n",
    "        self.weak_learners = []\n",
    "        self.alphas = []\n",
    "    \n",
    "    def fit(self, X, y):\n",
    "        n_samples = len(X)\n",
    "        weights = np.ones(n_samples) / n_samples\n",
    "\n",
    "        for _ in range(self.n_estimators):\n",
    "            weak_learner = self.base_learner(max_depth=self.max_depth)\n",
    "            weak_learner.fit(X, y, sample_weight=weights)\n",
    "            predictions = weak_learner.predict(X)\n",
    "            error = np.sum(weights * (predictions != y)) / np.sum(weights)\n",
    "            alpha = 0.5 * np.log((1 - error) / max(error, 1e-16))\n",
    "            weights *= np.exp(-alpha * y * predictions)\n",
    "            weights /= np.sum(weights)\n",
    "            self.weak_learners.append(weak_learner)\n",
    "            self.alphas.append(alpha)\n",
    "    \n",
    "    def predict(self, X):\n",
    "        n_samples = len(X)\n",
    "        predictions = np.zeros(n_samples)\n",
    "\n",
    "        for alpha, weak_learner in zip(self.alphas, self.weak_learners):\n",
    "            predictions += alpha * weak_learner.predict(X)\n",
    "        \n",
    "        return np.sign(predictions)\n",
    "\n",
    "\n",
    "    # Define the decision tree used as weak learners in the Random Forest\n",
    "class DecisionTree:\n",
    "    def __init__(self, max_depth=None):\n",
    "        self.max_depth = max_depth\n",
    "    \n",
    "    def fit(self, x, y):\n",
    "        self.x = x\n",
    "        self.y = y\n",
    "        self.n_classes = len(np.unique(y))\n",
    "        self.feature_indices = np.arange(x.shape[1])\n",
    "        self.tree = self._build_tree(x, y, depth=0)\n",
    "    \n",
    "    def _build_tree(self, x, y, depth):\n",
    "        # Base case: check if all samples belong to the same class or maximum depth is reached\n",
    "        if len(np.unique(y)) == 1 or depth == self.max_depth:\n",
    "            return np.bincount(y).argmax()\n",
    "        \n",
    "        n_samples, n_features = x.shape\n",
    "        best_feature = None\n",
    "        best_threshold = None\n",
    "        best_gini = 1.0\n",
    "        \n",
    "        # Find the best feature and threshold that minimizes the Gini impurity\n",
    "        for feature in self.feature_indices:\n",
    "            thresholds = np.unique(x[:, feature])\n",
    "            for threshold in thresholds:\n",
    "                left_indices = x[:, feature] < threshold\n",
    "                right_indices = ~left_indices\n",
    "                left_gini = self._gini_impurity(y[left_indices])\n",
    "                right_gini = self._gini_impurity(y[right_indices])\n",
    "                gini = (np.sum(left_indices) / n_samples) * left_gini + (np.sum(right_indices) / n_samples) * right_gini\n",
    "                if gini < best_gini:\n",
    "                    best_gini = gini\n",
    "                    best_feature = feature\n",
    "                    best_threshold = threshold\n",
    "        \n",
    "        # Split the data based on the best feature and threshold\n",
    "        left_indices = x[:, best_feature] < best_threshold\n",
    "        right_indices = ~left_indices\n",
    "        left_tree = self._build_tree(x[left_indices], y[left_indices], depth + 1)\n",
    "        right_tree = self._build_tree(x[right_indices], y[right_indices], depth + 1)\n",
    "        \n",
    "        return (best_feature, best_threshold, left_tree, right_tree)\n",
    "    \n",
    "    def predict(self, x):\n",
    "        return np.array([self._traverse_tree(x, self.tree) for x in X])\n",
    "    \n",
    "    def _traverse_tree(self, x, node):\n",
    "        if isinstance(node, int):\n",
    "            return node\n",
    "        feature, threshold, left_tree, right_tree = node\n",
    "        if x[feature] < threshold:\n",
    "            return self._traverse_tree(x, left_tree)\n",
    "        else:\n",
    "            return self._traverse_tree(x, right_tree)\n",
    "    \n",
    "    def _gini_impurity(self, y):\n",
    "        _, counts = np.unique(y, return_counts=True)\n",
    "        proportions = counts / len(y)\n",
    "        gini = 1 - np.sum(proportions**2)\n",
    "        return gini\n",
    "\n",
    "adaboost_rf = AdaBoost(n_estimators=50, base_learner=RandomForestClassifier, max_depth=3)\n",
    "adaboost_rf.fit(x_train, y_train)\n",
    "\n",
    "# Make predictions on the test set\n",
    "y_pred = adaboost_rf.predict(x_test)\n",
    "\n",
    "# Calculate the accuracy of the AdaBoost classifier\n",
    "accuracy = accuracy_score(y_test, y_pred)\n",
    "print(\"Accuracy:\", accuracy)\n",
    "\n",
    "\n",
    "\n",
    "\n",
    "\n"
   ]
  },
  {
   "cell_type": "code",
   "execution_count": 120,
   "id": "307c9cf1",
   "metadata": {},
   "outputs": [
    {
     "name": "stdout",
     "output_type": "stream",
     "text": [
      "Accuracy: 0.81\n"
     ]
    }
   ],
   "source": [
    "# Define the weak learner using Gaussian Naive Bayes\n",
    "class WeakLearner:\n",
    "    def __init__(self):\n",
    "        self.classifier = GaussianNB()\n",
    "    \n",
    "    def train(self, x, y):\n",
    "        self.classifier.fit(x, y)\n",
    "    \n",
    "    def predict(self, x):\n",
    "        return self.classifier.predict(x)\n",
    "\n",
    "# Define the AdaBoost algorithm\n",
    "class AdaBoost:\n",
    "    def __init__(self, n_estimators):\n",
    "        self.n_estimators = n_estimators\n",
    "        self.weak_learners = []\n",
    "        self.alphas = []\n",
    "    \n",
    "    def fit(self, x, y):\n",
    "        n_samples = len(x)\n",
    "        weights = np.ones(n_samples) / n_samples\n",
    "\n",
    "        for _ in range(self.n_estimators):\n",
    "            weak_learner = WeakLearner()\n",
    "            weak_learner.train(x, y)\n",
    "            predictions = weak_learner.predict(x)\n",
    "            error = np.sum(weights * (predictions != y)) / np.sum(weights)\n",
    "            alpha = 0.5 * np.log((1 - error) / max(error, 1e-16))\n",
    "            weights *= np.exp(-alpha * y * predictions)\n",
    "            weights /= np.sum(weights)\n",
    "            self.weak_learners.append(weak_learner)\n",
    "            self.alphas.append(alpha)\n",
    "    \n",
    "    def predict(self, x):\n",
    "        n_samples = len(x)\n",
    "        predictions = np.zeros(n_samples)\n",
    "\n",
    "        for alpha, weak_learner in zip(self.alphas, self.weak_learners):\n",
    "            predictions += alpha * weak_learner.predict(x)\n",
    "        \n",
    "        return np.sign(predictions)\n",
    "\n",
    "# Initialize and train the AdaBoost classifier with Gaussian Naive Bayes\n",
    "adaboost_nb = AdaBoost(n_estimators=50)\n",
    "adaboost_nb.fit(x_train, y_train)\n",
    "\n",
    "# Make predictions on the test set\n",
    "y_pred = adaboost_nb.predict(x_test)\n",
    "\n",
    "# Calculate the accuracy of the AdaBoost classifier\n",
    "accuracy = accuracy_score(y_test, y_pred)\n",
    "print(\"Accuracy:\", accuracy)"
   ]
  },
  {
   "cell_type": "code",
   "execution_count": 121,
   "id": "7c43a9a1",
   "metadata": {},
   "outputs": [
    {
     "name": "stdout",
     "output_type": "stream",
     "text": [
      "Accuracy: 0.83\n"
     ]
    }
   ],
   "source": [
    "class WeakLearner:\n",
    "    def __init__(self):\n",
    "        self.classifier = LogisticRegression(solver='lbfgs', multi_class='auto')\n",
    "    \n",
    "    def train(self, x, y):\n",
    "        self.classifier.fit(x, y)\n",
    "    \n",
    "    def predict(self, x):\n",
    "        return self.classifier.predict(x)\n",
    "\n",
    "# Define the AdaBoost algorithm\n",
    "class AdaBoost:\n",
    "    def __init__(self, n_estimators):\n",
    "        self.n_estimators = n_estimators\n",
    "        self.weak_learners = []\n",
    "        self.alphas = []\n",
    "    \n",
    "    def fit(self, x, y):\n",
    "        n_samples = len(x)\n",
    "        weights = np.ones(n_samples) / n_samples\n",
    "\n",
    "        for _ in range(self.n_estimators):\n",
    "            weak_learner = WeakLearner()\n",
    "            weak_learner.train(x, y)\n",
    "            predictions = weak_learner.predict(x)\n",
    "            error = np.sum(weights * (predictions != y)) / np.sum(weights)\n",
    "            alpha = 0.5 * np.log((1 - error) / max(error, 1e-16))\n",
    "            weights *= np.exp(-alpha * y * predictions)\n",
    "            weights /= np.sum(weights)\n",
    "            self.weak_learners.append(weak_learner)\n",
    "            self.alphas.append(alpha)\n",
    "    \n",
    "    def predict(self, x):\n",
    "        n_samples = len(x)\n",
    "        predictions = np.zeros(n_samples)\n",
    "\n",
    "        for alpha, weak_learner in zip(self.alphas, self.weak_learners):\n",
    "            predictions += alpha * weak_learner.predict(x)\n",
    "        \n",
    "        return np.sign(predictions)\n",
    "\n",
    "# Initialize and train the AdaBoost classifier with Logistic Regression\n",
    "adaboost_lr = AdaBoost(n_estimators=50)\n",
    "adaboost_lr.fit(x_train, y_train)\n",
    "\n",
    "# Make predictions on the test set\n",
    "y_pred = adaboost_lr.predict(x_test)\n",
    "\n",
    "# Calculate the accuracy of the AdaBoost classifier\n",
    "accuracy = accuracy_score(y_test, y_pred)\n",
    "print(\"Accuracy:\", accuracy)"
   ]
  },
  {
   "cell_type": "code",
   "execution_count": 122,
   "id": "37b01750",
   "metadata": {},
   "outputs": [
    {
     "data": {
      "image/png": "[encoded data removed]",
      "text/plain": [
       "<Figure size 1000x500 with 2 Axes>"
      ]
     },
     "metadata": {},
     "output_type": "display_data"
    }
   ],
   "source": [
    "algorithms = ['KNN', 'RF', 'NB', 'LR']\n",
    "accuracy_scores = [0.715, 0.855, 0.81, 0.83]\n",
    "\n",
    "# Create the bar chart subplot\n",
    "fig, (ax1, ax2) = plt.subplots(1, 2, figsize=(10, 5))\n",
    "bars = ax1.bar(algorithms, accuracy_scores, color=['red', 'yellow', 'green', 'blue'])\n",
    "ax1.set_title('Accuracy Scores')\n",
    "ax1.set_xlabel('Algorithm')\n",
    "ax1.set_ylabel('Accuracy Score')\n",
    "\n",
    "# Add text labels to the top of the bars\n",
    "for i, bar in enumerate(bars):\n",
    "    ax1.text(bar.get_x() + bar.get_width() / 2, bar.get_height() + 0.01, str(accuracy_scores[i]), ha='center')\n",
    "\n",
    "x_labels = ['KNN', 'RF', 'NB', 'Logistic Regression']\n",
    "y_values = [0.715, 0.855, 0.81, 0.83]\n",
    "\n",
    "# Create the line plot subplot\n",
    "ax2.plot(x_labels, y_values)\n",
    "ax2.set_title('Comparison of Accuracy Scores')\n",
    "ax2.set_xlabel('Algorithm')\n",
    "ax2.set_ylabel('Accuracy Score')\n",
    "ax2.set_ylim(0.6, 1.0)\n",
    "\n",
    "# Add text labels to the line plot\n",
    "for i, value in enumerate(y_values):\n",
    "    ax2.text(x_labels[i], value + 0.01, str(value), ha='center')\n",
    "    \n",
    "    ax2.scatter(x_labels, y_values, color='blue')\n",
    "\n",
    "# Show the plot\n",
    "plt.show()"
   ]
  },
  {
   "cell_type": "code",
   "execution_count": null,
   "id": "6786a3b9",
   "metadata": {},
   "outputs": [],
   "source": []
  }
 ],
 "metadata": {
  "kernelspec": {
   "display_name": "Python 3 (ipykernel)",
   "language": "python",
   "name": "python3"
  },
  "language_info": {
   "codemirror_mode": {
    "name": "ipython",
    "version": 3
   },
   "file_extension": ".py",
   "mimetype": "text/x-python",
   "name": "python",
   "nbconvert_exporter": "python",
   "pygments_lexer": "ipython3",
   "version": "3.10.9"
  }
 },
 "nbformat": 4,
 "nbformat_minor": 5
}
